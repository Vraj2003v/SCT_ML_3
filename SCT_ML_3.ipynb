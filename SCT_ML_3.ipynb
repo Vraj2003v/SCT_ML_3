{
 "cells": [
  {
   "cell_type": "markdown",
   "metadata": {},
   "source": [
    "## Name : Vrajkumar Patel\n",
    "### Dogs vs. Cats\n"
   ]
  },
  {
   "cell_type": "code",
   "execution_count": 11,
   "metadata": {},
   "outputs": [],
   "source": [
    "#import libraries\n",
    "import os\n",
    "import numpy as np\n",
    "import cv2\n",
    "import matplotlib.pyplot as plt\n",
    "import seaborn as sns\n",
    "from sklearn.preprocessing import LabelEncoder\n",
    "from sklearn.svm import SVC\n",
    "from sklearn.metrics import confusion_matrix, accuracy_score, classification_report\n"
   ]
  },
  {
   "cell_type": "code",
   "execution_count": 12,
   "metadata": {},
   "outputs": [],
   "source": [
    "#Load the data\n",
    "def load_data_from_folders(dataset_path, img_size):\n",
    "    images = []\n",
    "    labels = []\n",
    "\n",
    "    print(f\"Loading data from: {dataset_path}\")\n",
    "\n",
    "    # Check if the dataset path exists\n",
    "    if not os.path.exists(dataset_path):\n",
    "        raise ValueError(f\"Dataset path {dataset_path} does not exist.\")\n",
    "    \n",
    "    for label in os.listdir(dataset_path):\n",
    "        class_dir = os.path.join(dataset_path, label)\n",
    "        if os.path.isdir(class_dir):\n",
    "            print(f\"Loading from directory: {class_dir}\")\n",
    "            for img_file in os.listdir(class_dir):\n",
    "                img_path = os.path.join(class_dir, img_file)\n",
    "                img = cv2.imread(img_path, cv2.IMREAD_COLOR)\n",
    "                if img is not None:\n",
    "                    img = cv2.resize(img, (img_size, img_size))\n",
    "                    images.append(img)\n",
    "                    labels.append(label)\n",
    "                else:\n",
    "                    print(f\"Failed to load image: {img_path}\")\n",
    "\n",
    "    images = np.array(images)\n",
    "    labels = np.array(labels)\n",
    "\n",
    "    print(f\"Loaded {len(images)} images from {dataset_path}\")\n",
    "    if len(images) > 0:\n",
    "        print(f\"Labels: {np.unique(labels)}\")\n",
    "    else:\n",
    "        print(\"No images were loaded.\")\n",
    "\n",
    "    return images, labels\n"
   ]
  },
  {
   "cell_type": "code",
   "execution_count": 13,
   "metadata": {},
   "outputs": [
    {
     "name": "stdout",
     "output_type": "stream",
     "text": [
      "Loading data from: C:/Users/ASUS/OneDrive - techno/Desktop/SCT_ML_TASKS/Task-3/training_set/training_set\n",
      "Loading from directory: C:/Users/ASUS/OneDrive - techno/Desktop/SCT_ML_TASKS/Task-3/training_set/training_set\\cats\n",
      "Failed to load image: C:/Users/ASUS/OneDrive - techno/Desktop/SCT_ML_TASKS/Task-3/training_set/training_set\\cats\\_DS_Store\n",
      "Loading from directory: C:/Users/ASUS/OneDrive - techno/Desktop/SCT_ML_TASKS/Task-3/training_set/training_set\\dogs\n",
      "Failed to load image: C:/Users/ASUS/OneDrive - techno/Desktop/SCT_ML_TASKS/Task-3/training_set/training_set\\dogs\\_DS_Store\n",
      "Loaded 8005 images from C:/Users/ASUS/OneDrive - techno/Desktop/SCT_ML_TASKS/Task-3/training_set/training_set\n",
      "Labels: ['cats' 'dogs']\n",
      "Loading data from: C:/Users/ASUS/OneDrive - techno/Desktop/SCT_ML_TASKS/Task-3/test_set/test_set\n",
      "Loading from directory: C:/Users/ASUS/OneDrive - techno/Desktop/SCT_ML_TASKS/Task-3/test_set/test_set\\cats\n",
      "Failed to load image: C:/Users/ASUS/OneDrive - techno/Desktop/SCT_ML_TASKS/Task-3/test_set/test_set\\cats\\_DS_Store\n",
      "Loading from directory: C:/Users/ASUS/OneDrive - techno/Desktop/SCT_ML_TASKS/Task-3/test_set/test_set\\dogs\n",
      "Failed to load image: C:/Users/ASUS/OneDrive - techno/Desktop/SCT_ML_TASKS/Task-3/test_set/test_set\\dogs\\_DS_Store\n",
      "Loaded 2023 images from C:/Users/ASUS/OneDrive - techno/Desktop/SCT_ML_TASKS/Task-3/test_set/test_set\n",
      "Labels: ['cats' 'dogs']\n"
     ]
    }
   ],
   "source": [
    "# Paths to the dataset\n",
    "TRAIN_PATH = r'C:/Users/ASUS/OneDrive - techno/Desktop/SCT_ML_TASKS/Task-3/dataset/training_set/training_set' \n",
    "TEST_PATH = r'C:/Users/ASUS/OneDrive - techno/Desktop/SCT_ML_TASKS/Task-3/dataset/test_set/test_set'    \n",
    "\n",
    "# Parameters\n",
    "IMG_SIZE = 64  # Resize images to 64x64\n",
    "\n",
    "# Load training and testing data\n",
    "train_images, train_labels = load_data_from_folders(TRAIN_PATH, IMG_SIZE)\n",
    "test_images, test_labels = load_data_from_folders(TEST_PATH, IMG_SIZE)\n",
    "\n",
    "# Check if data is loaded correctly\n",
    "if len(train_labels) == 0:\n",
    "    raise ValueError(\"Training labels not found or not loaded correctly.\")\n",
    "if len(test_images) == 0:\n",
    "    raise ValueError(\"Test images not found or not loaded correctly.\")\n"
   ]
  },
  {
   "cell_type": "code",
   "execution_count": 21,
   "metadata": {},
   "outputs": [
    {
     "name": "stdout",
     "output_type": "stream",
     "text": [
      "Label encoder saved to label_encoder.pkl\n",
      "Label encoding complete. Classes: ['cats' 'dogs']\n"
     ]
    }
   ],
   "source": [
    "# Convert labels to numerical format\n",
    "import joblib\n",
    "label_encoder = LabelEncoder()\n",
    "train_labels_encoded = label_encoder.fit_transform(train_labels)\n",
    "test_labels_encoded = label_encoder.transform(test_labels)\n",
    "\n",
    "label_encoder_filename = 'label_encoder.pkl'\n",
    "joblib.dump(label_encoder, label_encoder_filename)\n",
    "print(f\"Label encoder saved to {label_encoder_filename}\")\n",
    "\n",
    "print(f\"Label encoding complete. Classes: {label_encoder.classes_}\")\n",
    "\n",
    "# Flatten images\n",
    "train_data = train_images.reshape((train_images.shape[0], -1))\n",
    "test_data = test_images.reshape((test_images.shape[0], -1))\n",
    "\n"
   ]
  },
  {
   "cell_type": "code",
   "execution_count": 15,
   "metadata": {},
   "outputs": [
    {
     "name": "stdout",
     "output_type": "stream",
     "text": [
      "Model saved to svm_model2.pkl\n"
     ]
    }
   ],
   "source": [
    "# Train the SVM model\n",
    "svm_model = SVC(kernel='linear', C=1.0, random_state=42)\n",
    "svm_model.fit(train_data, train_labels_encoded)\n",
    "import joblib\n",
    "model_filename = 'svm_model2.pkl'\n",
    "joblib.dump(svm_model, model_filename)\n",
    "print(f\"Model saved to {model_filename}\")\n"
   ]
  },
  {
   "cell_type": "code",
   "execution_count": 16,
   "metadata": {},
   "outputs": [
    {
     "name": "stdout",
     "output_type": "stream",
     "text": [
      "Accuracy: 0.55\n",
      "Classification Report:\n",
      "              precision    recall  f1-score   support\n",
      "\n",
      "        cats       0.55      0.58      0.56      1011\n",
      "        dogs       0.55      0.52      0.54      1012\n",
      "\n",
      "    accuracy                           0.55      2023\n",
      "   macro avg       0.55      0.55      0.55      2023\n",
      "weighted avg       0.55      0.55      0.55      2023\n",
      "\n"
     ]
    },
    {
     "data": {
      "image/png": "[encoded data removed]",
      "text/plain": [
       "<Figure size 1000x700 with 2 Axes>"
      ]
     },
     "metadata": {},
     "output_type": "display_data"
    }
   ],
   "source": [
    "# Predict on test data\n",
    "test_pred = svm_model.predict(test_data)\n",
    "\n",
    "# Evaluate the model\n",
    "accuracy = accuracy_score(test_labels_encoded, test_pred)\n",
    "print(f\"Accuracy: {accuracy:.2f}\")\n",
    "\n",
    "print(\"Classification Report:\")\n",
    "print(classification_report(test_labels_encoded, test_pred, target_names=label_encoder.classes_))\n",
    "\n",
    "# Function to plot confusion matrix\n",
    "def plot_confusion_matrix(y_true, y_pred, label_encoder):\n",
    "    cm = confusion_matrix(y_true, y_pred)\n",
    "    plt.figure(figsize=(10, 7))\n",
    "    sns.heatmap(cm, annot=True, fmt='d', cmap='Blues', xticklabels=label_encoder.classes_, yticklabels=label_encoder.classes_)\n",
    "    plt.xlabel('Predicted Label')\n",
    "    plt.ylabel('True Label')\n",
    "    plt.title('Confusion Matrix')\n",
    "    plt.show()\n",
    "\n",
    "# Plot confusion matrix\n",
    "plot_confusion_matrix(test_labels_encoded, test_pred, label_encoder)\n"
   ]
  },
  {
   "cell_type": "code",
   "execution_count": 23,
   "metadata": {},
   "outputs": [
    {
     "name": "stdout",
     "output_type": "stream",
     "text": [
      "Model loaded successfully\n",
      "Label encoder loaded successfully\n",
      "Predicted class: cats\n"
     ]
    }
   ],
   "source": [
    "def predict_image(image_path, model, label_encoder, img_size=IMG_SIZE):\n",
    "    # Load and preprocess the image\n",
    "    img = cv2.imread(image_path, cv2.IMREAD_COLOR)\n",
    "    if img is None:\n",
    "        raise ValueError(\"Image not found or could not be loaded.\")\n",
    "    \n",
    "    img = cv2.resize(img, (img_size, img_size))\n",
    "    img = img.astype('float32') / 255.0  # Normalize to [0, 1]\n",
    "    img = img.reshape((1, -1))  # Flatten image\n",
    "\n",
    "    # Predict using the loaded model\n",
    "    prediction = model.predict(img)\n",
    "    predicted_label = label_encoder.inverse_transform(prediction)\n",
    "    \n",
    "    return predicted_label[0]\n",
    "\n",
    "# Load the model from the file\n",
    "loaded_model = joblib.load('svm_model2.pkl')\n",
    "print(\"Model loaded successfully\")\n",
    "\n",
    "# Load the label encoder\n",
    "label_encoder = joblib.load('label_encoder.pkl')\n",
    "print(\"Label encoder loaded successfully\")\n",
    "\n",
    "# Example user input\n",
    "image_path = input(\"Enter the path to the image for prediction: \")\n",
    "try:\n",
    "    result = predict_image(image_path, loaded_model, label_encoder)\n",
    "    print(f\"Predicted class: {result}\")\n",
    "except ValueError as e:\n",
    "    print(e)\n"
   ]
  }
 ],
 "metadata": {
  "kernelspec": {
   "display_name": "Python 3",
   "language": "python",
   "name": "python3"
  },
  "language_info": {
   "codemirror_mode": {
    "name": "ipython",
    "version": 3
   },
   "file_extension": ".py",
   "mimetype": "text/x-python",
   "name": "python",
   "nbconvert_exporter": "python",
   "pygments_lexer": "ipython3",
   "version": "3.12.4"
  }
 },
 "nbformat": 4,
 "nbformat_minor": 2
}
